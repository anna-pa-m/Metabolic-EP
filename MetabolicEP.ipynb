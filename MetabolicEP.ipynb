{
 "cells": [
  {
   "cell_type": "markdown",
   "metadata": {},
   "source": [
    "Metabolic EP\n",
    "=====\n",
    "\n",
    "Load julia module\n",
    "-----"
   ]
  },
  {
   "cell_type": "code",
   "execution_count": 43,
   "metadata": {},
   "outputs": [
    {
     "name": "stderr",
     "output_type": "stream",
     "text": [
      "WARNING: replacing module MetabolicEP.\n"
     ]
    },
    {
     "data": {
      "text/plain": [
       "Main.MetabolicEP"
      ]
     },
     "execution_count": 43,
     "metadata": {},
     "output_type": "execute_result"
    }
   ],
   "source": [
    "# eventually, install repository with import Pkg; Pkg.clone(\"https://github.com/anna-pa-m/Metabolic-EP/\",\"MetabolicEP.jl\")\n",
    "#import Pkg; Pkg.clone(\"https://github.com/anna-pa-m/Metabolic-EP/\",\"MetabolicEP.jl\")\n",
    "#using MetabolicEP\n",
    "include(\"src/MetabolicEP.jl\")"
   ]
  },
  {
   "cell_type": "markdown",
   "metadata": {},
   "source": [
    "Load test metabolic model\n",
    "------"
   ]
  },
  {
   "cell_type": "code",
   "execution_count": 19,
   "metadata": {},
   "outputs": [],
   "source": [
    "#met=MetabolicEP.ReadMatrix(Pkg.Dir.path() * \"/MetabolicEP/test/ecoli_core_model.mat\");\n",
    "met=MetabolicEP.ReadMatrix(\"test/ecoli_core_model.mat\");"
   ]
  },
  {
   "cell_type": "markdown",
   "metadata": {},
   "source": [
    "Run EP\n",
    "-----"
   ]
  },
  {
   "cell_type": "code",
   "execution_count": 20,
   "metadata": {},
   "outputs": [
    {
     "name": "stderr",
     "output_type": "stream",
     "text": [
      "Analyzing a 72 x 95 stoichiometric matrix.\n",
      "Converging with β=1.0e9 maxth=1.0e-6 maxiter=2000:\n",
      "it = 341 ɛav = 9.66e-07 ɛvar = 4.08e-08 ɛμ = 1.79e-06 ɛs = 9.40e-08                  ɛμ = 2.65e-02 ɛs = 1.75e-03                 e-06 ɛs = 4.66e-07                 \n"
     ]
    },
    {
     "data": {
      "text/plain": [
       "95-element Array{Float64,1}:\n",
       "  -1.9939969679570093 \n",
       "  -1.0552173803738025 \n",
       "  -1.4410949781534763 \n",
       "   9.31697692715414   \n",
       "   9.318877875880977  \n",
       "  -1.441768583322908  \n",
       "  10.644874131167954  \n",
       "   0.19692096539851645\n",
       "  -0.5517449556395375 \n",
       "  -0.9396736351032438 \n",
       " -72.18550809309693   \n",
       "  49.37506591228082   \n",
       "  -0.5878520734675554 \n",
       "   ⋮                  \n",
       "  -1.0468632483001472 \n",
       "   4.630343750206908  \n",
       "  -2.35421590802529   \n",
       "   5.3157879549604345 \n",
       "   8.048668531915112  \n",
       " 507.51748121312335   \n",
       "  -3.5794285789622617 \n",
       "   2.323976466704064  \n",
       " -68.27312112928051   \n",
       "   2.32100067197318   \n",
       "   2.3115057743060548 \n",
       "   7.279246662043479  "
      ]
     },
     "metadata": {},
     "output_type": "display_data"
    }
   ],
   "source": [
    "r = MetabolicEP.metabolicEP(met.S,met.b,met.lb,met.ub,beta=1e9);\n",
    "display(r.μ)"
   ]
  },
  {
   "cell_type": "code",
   "execution_count": 49,
   "metadata": {},
   "outputs": [
    {
     "name": "stderr",
     "output_type": "stream",
     "text": [
      "Analyzing a 67 x 95 stoichiometric matrix.\n",
      "Converging with β=Inf maxth=1.0e-6 maxiter=2000:\n",
      "it = 1766 ɛav = 7.59e+81 ɛvar = 0.00e+00 ɛμ = 1.80e+97 ɛs = 9.63e+48                  ɛμ = 2.15e+97 ɛs = 9.74e+48                 .00e+00 ɛμ = 4.75e+87 ɛs = 5.67e+39                 .34e+82 ɛs = 2.79e+34                  ɛvar = 0.00e+00 ɛμ = 1.28e+77 ɛs = 1.53e+29                 e+24                 .00e+00 ɛμ = 2.33e+61 ɛs = 2.77e+13                                  08                 e+35 ɛs = 3.50e-13                  ɛμ = 1.30e+30 ɛs = 1.55e-18                 .59e+09 ɛvar = 0.00e+00 ɛμ = 7.11e+24 ɛs = 8.48e-24                 \r"
     ]
    },
    {
     "name": "stdout",
     "output_type": "stream",
     "text": [
      "scra1 = -3.162772141850787e29 scra2 = Inf\n"
     ]
    },
    {
     "name": "stderr",
     "output_type": "stream",
     "text": [
      "it = 2000 ɛav = 1.41e+73 ɛvar = 0.00e+00 ɛμ = 7.76e+88 ɛs = 1.60e+41                  ɛs = 4.45e+46                 88 ɛs = 1.97e+41                 \n"
     ]
    },
    {
     "data": {
      "text/plain": [
       "95-element Array{Float64,1}:\n",
       "  3.171203571905595e89 \n",
       " -4.083086964343085e88 \n",
       " -1.2796826131762322e89\n",
       " -8.633684655850779e87 \n",
       " -8.633684655850779e87 \n",
       " -1.2796826131762322e89\n",
       " -2.1790656190096558e89\n",
       "  7.664972951431435e90 \n",
       "  6.631982040303006e89 \n",
       " -5.329358638965989e87 \n",
       " -1.6232447158001796e91\n",
       " -8.633684655850779e87 \n",
       "  2.40696459026451e89  \n",
       "  ⋮                    \n",
       " -2.301071041130132e91 \n",
       " -1.2127102333437572e92\n",
       " -2.824473897375961e88 \n",
       " -4.2687190411831924e91\n",
       "  9.441764910707217e91 \n",
       " -6.3245407280655e91   \n",
       "  2.3223597067171083e92\n",
       " -1.6905443360911605e92\n",
       "  1.4246985603378833e91\n",
       "  6.249694447389881e91 \n",
       "  3.07962670083576e91  \n",
       "  2.1877758852341304e91"
      ]
     },
     "metadata": {},
     "output_type": "display_data"
    }
   ],
   "source": [
    "# Beta = Inf \n",
    "\n",
    "#import Pkg; Pkg.clone(\"https://github.com/blegat/RowEchelon.jl.git\", \"RowEchelon.jl\")\n",
    "#using RowEchelon.jl\n",
    "#include(\"/home/muntoni/src/RowEchelon.jl/src/RowEchelon.jl\")\n",
    "#Snew = RowEchelon.rref!(Matrix(met.S))\n",
    "using DelimitedFiles\n",
    "\n",
    "# INPUT ? S = [I | M] or S = M ? \n",
    "idxdep, idxnew,idxmap,Snew,bnew = MetabolicEP.echelonize(Matrix(met.S),met.b)\n",
    "r0 = MetabolicEP.metabolicEP(Snew,bnew,met.lb,met.ub,beta=Inf);\n",
    "display(r0.μ)"
   ]
  },
  {
   "cell_type": "code",
   "execution_count": 23,
   "metadata": {},
   "outputs": [
    {
     "ename": "ArgumentError",
     "evalue": "ArgumentError: At least one finite value must be provided to formatter.",
     "output_type": "error",
     "traceback": [
      "ArgumentError: At least one finite value must be provided to formatter.",
      "",
      "Stacktrace:",
      " [1] showoff(::Array{Float64,1}, ::Symbol) at /home/muntoni/.julia/packages/Showoff/0KxsS/src/Showoff.jl:106",
      " [2] optimal_ticks_and_labels(::Plots.Axis, ::Nothing) at /home/muntoni/.julia/packages/Plots/47Tik/src/axes.jl:215",
      " [3] optimal_ticks_and_labels at /home/muntoni/.julia/packages/Plots/47Tik/src/axes.jl:156 [inlined]",
      " [4] get_ticks(::Plots.Axis) at /home/muntoni/.julia/packages/Plots/47Tik/src/axes.jl:264",
      " [5] tick_padding(::Plots.Axis) at /home/muntoni/.julia/packages/Plots/47Tik/src/backends.jl:79",
      " [6] _update_min_padding!(::Plots.Subplot{Plots.PlotlyBackend}) at /home/muntoni/.julia/packages/Plots/47Tik/src/backends.jl:109",
      " [7] iterate at ./generator.jl:47 [inlined]",
      " [8] _collect(::Array{AbstractLayout,2}, ::Base.Generator{Array{AbstractLayout,2},typeof(Plots._update_min_padding!)}, ::Base.EltypeUnknown, ::Base.HasShape{2}) at ./array.jl:616",
      " [9] collect_similar at ./array.jl:545 [inlined]",
      " [10] map at ./abstractarray.jl:2014 [inlined]",
      " [11] _update_min_padding!(::Plots.GridLayout) at /home/muntoni/.julia/packages/Plots/47Tik/src/layouts.jl:310",
      " [12] prepare_output(::Plots.Plot{Plots.PlotlyBackend}) at /home/muntoni/.julia/packages/Plots/47Tik/src/plot.jl:261",
      " [13] show(::Base.GenericIOBuffer{Array{UInt8,1}}, ::MIME{Symbol(\"text/html\")}, ::Plots.Plot{Plots.PlotlyBackend}) at /home/muntoni/.julia/packages/Plots/47Tik/src/output.jl:197",
      " [14] #sprint#327(::Nothing, ::Int64, ::Function, ::Function, ::MIME{Symbol(\"text/html\")}, ::Vararg{Any,N} where N) at ./strings/io.jl:101",
      " [15] sprint(::Function, ::MIME{Symbol(\"text/html\")}, ::Vararg{Any,N} where N) at ./strings/io.jl:97",
      " [16] _ijulia_display_dict(::Plots.Plot{Plots.PlotlyBackend}) at /home/muntoni/.julia/packages/Plots/47Tik/src/ijulia.jl:53",
      " [17] display_dict(::Plots.Plot{Plots.PlotlyBackend}) at /home/muntoni/.julia/packages/Plots/47Tik/src/init.jl:42",
      " [18] #invokelatest#1 at ./essentials.jl:697 [inlined]",
      " [19] invokelatest at ./essentials.jl:696 [inlined]",
      " [20] execute_request(::ZMQ.Socket, ::IJulia.Msg) at /home/muntoni/.julia/packages/IJulia/9ajf8/src/execute_request.jl:112",
      " [21] #invokelatest#1 at ./essentials.jl:697 [inlined]",
      " [22] invokelatest at ./essentials.jl:696 [inlined]",
      " [23] eventloop(::ZMQ.Socket) at /home/muntoni/.julia/packages/IJulia/9ajf8/src/eventloop.jl:8",
      " [24] (::getfield(IJulia, Symbol(\"##15#18\")))() at ./task.jl:259"
     ]
    }
   ],
   "source": [
    "using Plots\n",
    "Plots.plotly()\n",
    "scatter(r.μ, r0.μ)"
   ]
  },
  {
   "cell_type": "markdown",
   "metadata": {},
   "source": [
    "Plot marginals\n",
    "-----\n",
    "    \n",
    "Marginals are truncated Normal\n",
    "\n",
    "\n",
    "\n",
    "$$P(\\nu_i)\\propto \\mathbb{I}[l_i\\leq\\nu_i\\leq u_i]e^{-\\frac{(\\nu_i-\\mu_i)^2}{2s_i}}$$"
   ]
  },
  {
   "cell_type": "code",
   "execution_count": 10,
   "metadata": {
    "scrolled": true
   },
   "outputs": [
    {
     "name": "stderr",
     "output_type": "stream",
     "text": [
      "┌ Info: Precompiling Gadfly [c91e804a-d5a3-530f-b6f0-dfbca275c004]\n",
      "└ @ Base loading.jl:1186\n",
      "Internal error: encountered unexpected error in runtime:\n",
      "InterruptException()\n",
      "jl_mutex_unlock at /home/muntoni/src/julia/src/locks.h:138 [inlined]\n",
      "jl_typeinf_end at /home/muntoni/src/julia/src/gf.c:2594\n",
      "typeinf_ext at ./compiler/typeinfer.jl:584\n",
      "typeinf_ext at ./compiler/typeinfer.jl:620\n",
      "jfptr_typeinf_ext_1 at /home/muntoni/src/julia/usr/lib/julia/sys.so (unknown line)\n",
      "jl_apply_generic at /home/muntoni/src/julia/src/gf.c:2209\n",
      "jl_apply at /home/muntoni/src/julia/src/julia.h:1571 [inlined]\n",
      "jl_type_infer at /home/muntoni/src/julia/src/gf.c:277\n",
      "jl_compile_method_internal at /home/muntoni/src/julia/src/gf.c:1809 [inlined]\n",
      "jl_fptr_trampoline at /home/muntoni/src/julia/src/gf.c:1853\n",
      "jl_apply_generic at /home/muntoni/src/julia/src/gf.c:2209\n",
      "do_call at /home/muntoni/src/julia/src/interpreter.c:323\n",
      "eval_value at /home/muntoni/src/julia/src/interpreter.c:411\n",
      "eval_stmt_value at /home/muntoni/src/julia/src/interpreter.c:362 [inlined]\n",
      "eval_body at /home/muntoni/src/julia/src/interpreter.c:773\n",
      "jl_interpret_toplevel_thunk_callback at /home/muntoni/src/julia/src/interpreter.c:885\n",
      "Interpreter frame (ip: 2)\n",
      "Core.CodeInfo(code=Array{Any, (4,)}[\n",
      "  Expr(:call, Base.getproperty, :Gadfly, :(:gridstack)),\n",
      "  Expr(:call, :reshape, :P, :R, 5),\n",
      "  Expr(:call, SSAValue(1), SSAValue(2)),\n",
      "  Expr(:return, SSAValue(3))], codelocs=Array{Int32, (4,)}[1, 1, 1, 1], method_for_inference_limit_heuristics=nothing, ssavaluetypes=4, linetable=Array{Any, (1,)}[Core.LineInfoNode(mod=Main, method=Symbol(\"top-level scope\"), file=Symbol(\"In[10]\"), line=19, inlined_at=0)], ssaflags=Array{UInt8, (0,)}[], slotflags=Array{UInt8, (0,)}[], slotnames=Array{Any, (0,)}[], inferred=false, inlineable=false, propagate_inbounds=false, pure=false)jl_interpret_toplevel_thunk at /home/muntoni/src/julia/src/interpreter.c:894\n",
      "jl_toplevel_eval_flex at /home/muntoni/src/julia/src/toplevel.c:764\n",
      "jl_toplevel_eval_in at /home/muntoni/src/julia/src/toplevel.c:793\n",
      "eval at ./boot.jl:319 [inlined]\n",
      "softscope_include_string at /home/muntoni/.julia/packages/SoftGlobalScope/cSbw5/src/SoftGlobalScope.jl:218\n",
      "execute_request at /home/muntoni/.julia/packages/IJulia/9ajf8/src/execute_request.jl:67\n",
      "jl_apply_generic at /home/muntoni/src/julia/src/gf.c:2209\n",
      "jl_apply at /home/muntoni/src/julia/src/julia.h:1571 [inlined]\n",
      "jl_f__apply at /home/muntoni/src/julia/src/builtins.c:556\n",
      "jl_f__apply_latest at /home/muntoni/src/julia/src/builtins.c:594\n",
      "#invokelatest#1 at ./essentials.jl:697 [inlined]\n",
      "invokelatest at ./essentials.jl:696 [inlined]\n",
      "eventloop at /home/muntoni/.julia/packages/IJulia/9ajf8/src/eventloop.jl:8\n",
      "#15 at ./task.jl:259\n",
      "jl_fptr_trampoline at /home/muntoni/src/julia/src/gf.c:1854\n",
      "jl_apply_generic at /home/muntoni/src/julia/src/gf.c:2209\n",
      "jl_apply at /home/muntoni/src/julia/src/julia.h:1571 [inlined]\n",
      "start_task at /home/muntoni/src/julia/src/task.c:572\n",
      "unknown function (ip: 0xffffffffffffffff)\n"
     ]
    },
    {
     "ename": "MethodError",
     "evalue": "MethodError: no method matching isless(::Float64, ::Nothing)\nClosest candidates are:\n  isless(::Float64, !Matched::Float64) at float.jl:459\n  isless(!Matched::Missing, ::Any) at missing.jl:70\n  isless(::AbstractFloat, !Matched::AbstractFloat) at operators.jl:148\n  ...",
     "output_type": "error",
     "traceback": [
      "MethodError: no method matching isless(::Float64, ::Nothing)\nClosest candidates are:\n  isless(::Float64, !Matched::Float64) at float.jl:459\n  isless(!Matched::Missing, ::Any) at missing.jl:70\n  isless(::AbstractFloat, !Matched::AbstractFloat) at operators.jl:148\n  ...",
      "",
      "Stacktrace:",
      " [1] max(::Nothing, ::Float64) at ./operators.jl:400",
      " [2] apply_coordinate(::Gadfly.Coord.Cartesian, ::Array{Gadfly.Aesthetics,1}, ::Dict{Symbol,Gadfly.ScaleElement}) at /home/muntoni/.julia/packages/Gadfly/09PWZ/src/coord.jl:218",
      " [3] #render_prepared#99(::Bool, ::Bool, ::Function, ::Plot, ::Gadfly.Coord.Cartesian, ::Gadfly.Aesthetics, ::Array{Gadfly.Aesthetics,1}, ::Array{Array{Gadfly.StatisticElement,1},1}, ::Array{Array{Gadfly.Aesthetics,1},1}, ::Array{Array{Gadfly.Data,1},1}, ::Dict{Symbol,Gadfly.ScaleElement}, ::Array{Gadfly.GuideElement,1}) at /home/muntoni/.julia/packages/Gadfly/09PWZ/src/Gadfly.jl:803",
      " [4] render_prepared(::Plot, ::Gadfly.Coord.Cartesian, ::Gadfly.Aesthetics, ::Array{Gadfly.Aesthetics,1}, ::Array{Array{Gadfly.StatisticElement,1},1}, ::Array{Array{Gadfly.Aesthetics,1},1}, ::Array{Array{Gadfly.Data,1},1}, ::Dict{Symbol,Gadfly.ScaleElement}, ::Array{Gadfly.GuideElement,1}) at /home/muntoni/.julia/packages/Gadfly/09PWZ/src/Gadfly.jl:803",
      " [5] render(::Plot) at /home/muntoni/.julia/packages/Gadfly/09PWZ/src/Gadfly.jl:749",
      " [6] #106 at /home/muntoni/.julia/packages/Gadfly/09PWZ/src/Gadfly.jl:935 [inlined]",
      " [7] iterate at ./generator.jl:47 [inlined]",
      " [8] _collect(::Array{Plot,2}, ::Base.Generator{Array{Plot,2},getfield(Gadfly, Symbol(\"##106#107\"))}, ::Base.EltypeUnknown, ::Base.HasShape{2}) at ./array.jl:616",
      " [9] collect_similar(::Array{Plot,2}, ::Base.Generator{Array{Plot,2},getfield(Gadfly, Symbol(\"##106#107\"))}) at ./array.jl:545",
      " [10] map at ./abstractarray.jl:2014 [inlined]",
      " [11] _gridstack at /home/muntoni/.julia/packages/Gadfly/09PWZ/src/Gadfly.jl:935 [inlined]",
      " [12] gridstack(::Array{Plot,2}) at /home/muntoni/.julia/packages/Gadfly/09PWZ/src/Gadfly.jl:933",
      " [13] top-level scope at In[10]:19"
     ]
    }
   ],
   "source": [
    "#if you miss these packages, use Pkg.add(\"Distributions); Pkg.add(\"Gadfly\")\n",
    "using Distributions, Gadfly\n",
    "\n",
    "function plotmarg(i)\n",
    "    μ,s,l,u=r.μ[i],r.σ[i],met.lb[i],met.ub[i]\n",
    "    d=Normal(μ,√s);\n",
    "    D=Truncated(d,l,u);\n",
    "    #choose bounds to have a sensible plotting range\n",
    "    m=max(pdf(d,l),pdf(d,u),(l<μ<u) ? 1/sqrt(2pi*s) : 0);\n",
    "    v=sqrt(-2*s*log(sqrt(2pi*s)*1e-5m));\n",
    "    l1,l2=max(l,μ-v),min(u,μ+v);\n",
    "    return Gadfly.plot(x->pdf(D,x),l1,l2,Guide.YLabel(\"\"),Guide.XLabel(met.rxns[i]))\n",
    "end\n",
    "\n",
    "#build plot grid with R rows and 5 columns (up to R=19)\n",
    "R=19\n",
    "P=[plotmarg(i) for i=1:5R]\n",
    "Gadfly.set_default_plot_size(30cm,R*5cm)\n",
    "Gadfly.gridstack(reshape(P,R,5))"
   ]
  }
 ],
 "metadata": {
  "@webio": {
   "lastCommId": "9928ddfca0954bca97ded39c3e4755f3",
   "lastKernelId": "61b3ae4e-c6d7-4719-9242-422229a60d85"
  },
  "kernelspec": {
   "display_name": "Julia 1.1.0-DEV",
   "language": "julia",
   "name": "julia-1.1"
  },
  "language_info": {
   "file_extension": ".jl",
   "mimetype": "application/julia",
   "name": "julia",
   "version": "1.1.0"
  },
  "widgets": {
   "application/vnd.jupyter.widget-state+json": {
    "state": {},
    "version_major": 1,
    "version_minor": 0
   }
  }
 },
 "nbformat": 4,
 "nbformat_minor": 2
}
